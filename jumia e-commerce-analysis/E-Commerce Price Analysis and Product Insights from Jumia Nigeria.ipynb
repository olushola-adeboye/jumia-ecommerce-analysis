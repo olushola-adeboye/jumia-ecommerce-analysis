{
 "cells": [
  {
   "cell_type": "code",
   "execution_count": 1,
   "id": "45a0d1ca",
   "metadata": {},
   "outputs": [],
   "source": [
    "import requests\n",
    "from bs4 import BeautifulSoup\n",
    "import pandas as pd\n",
    "import numpy as np\n",
    "import matplotlib.pyplot as plt\n",
    "import seaborn as sns\n",
    "import math\n",
    "import time\n",
    "import re\n",
    "import warnings\n",
    "from requests.exceptions import RequestException\n",
    "warnings.filterwarnings('ignore')"
   ]
  },
  {
   "cell_type": "markdown",
   "id": "f0783e0f",
   "metadata": {},
   "source": [
    "## Problem Statement"
   ]
  },
  {
   "cell_type": "markdown",
   "id": "bb503c7c",
   "metadata": {},
   "source": [
    "Online shoppers in Nigeria often face difficulties comparing prices and discounts across similar products on Jumia. This project aims to analyze Jumia product pricing, discounts, and customer ratings to uncover insights that can help consumers make smarter purchase decisions and guide sellers in setting competitive prices."
   ]
  },
  {
   "cell_type": "markdown",
   "id": "c05936c1",
   "metadata": {},
   "source": [
    "## Objectives"
   ]
  },
  {
   "cell_type": "markdown",
   "id": "49579e70",
   "metadata": {},
   "source": [
    "1. Scrape product data from Jumia (name, category, price, old price, and rating).\n",
    "\n",
    "2. Clean and preprocess the dataset(remove symbols, fix data types, handle missing values).\n",
    "\n",
    "3. Analyze and visualize price, discount, and rating distributions.\n",
    "\n",
    "4. Identify categories with the highest discounts and best ratings\n",
    "\n",
    "5. Derive business insights from data trends"
   ]
  },
  {
   "cell_type": "code",
   "execution_count": 5,
   "id": "5f6a22d0",
   "metadata": {},
   "outputs": [
    {
     "name": "stdout",
     "output_type": "stream",
     "text": [
      "\n",
      "🔹 Starting category: PHONES-TABLETS\n",
      "\n",
      "📄 Scraping phones-tablets - Page 1...\n",
      "✅ Page 1 done! (40 products)\n",
      "\n",
      "📄 Scraping phones-tablets - Page 2...\n",
      "✅ Page 2 done! (40 products)\n",
      "\n",
      "🔹 Starting category: ELECTRONICS\n",
      "\n",
      "📄 Scraping electronics - Page 1...\n",
      "✅ Page 1 done! (40 products)\n",
      "\n",
      "📄 Scraping electronics - Page 2...\n",
      "✅ Page 2 done! (40 products)\n",
      "\n",
      "🔹 Starting category: COMPUTING\n",
      "\n",
      "📄 Scraping computing - Page 1...\n",
      "✅ Page 1 done! (40 products)\n",
      "\n",
      "📄 Scraping computing - Page 2...\n",
      "✅ Page 2 done! (40 products)\n",
      "\n",
      "🔹 Starting category: HOME-OFFICE\n",
      "\n",
      "📄 Scraping home-office - Page 1...\n",
      "✅ Page 1 done! (40 products)\n",
      "\n",
      "📄 Scraping home-office - Page 2...\n",
      "✅ Page 2 done! (40 products)\n",
      "\n",
      "🔹 Starting category: HEALTH-BEAUTY\n",
      "\n",
      "📄 Scraping health-beauty - Page 1...\n",
      "✅ Page 1 done! (40 products)\n",
      "\n",
      "📄 Scraping health-beauty - Page 2...\n",
      "✅ Page 2 done! (40 products)\n",
      "\n",
      "🔹 Starting category: FASHION-MEN\n",
      "\n",
      "📄 Scraping fashion-men - Page 1...\n",
      "❌ No products found on this page.\n",
      "\n",
      "🔹 Starting category: FASHION-WOMEN\n",
      "\n",
      "📄 Scraping fashion-women - Page 1...\n",
      "❌ No products found on this page.\n",
      "\n",
      "🔹 Starting category: GROCERIES\n",
      "\n",
      "📄 Scraping groceries - Page 1...\n",
      "✅ Page 1 done! (40 products)\n",
      "\n",
      "📄 Scraping groceries - Page 2...\n",
      "✅ Page 2 done! (40 products)\n",
      "\n",
      "🔹 Starting category: SUPERMARKET\n",
      "\n",
      "📄 Scraping supermarket - Page 1...\n",
      "❌ No products found on this page.\n",
      "\n",
      "🔹 Starting category: BABY-PRODUCTS\n",
      "\n",
      "📄 Scraping baby-products - Page 1...\n",
      "✅ Page 1 done! (40 products)\n",
      "\n",
      "📄 Scraping baby-products - Page 2...\n",
      "✅ Page 2 done! (40 products)\n",
      "\n",
      "🔹 Starting category: GAMING\n",
      "\n",
      "📄 Scraping gaming - Page 1...\n",
      "✅ Page 1 done! (11 products)\n",
      "\n",
      "📄 Scraping gaming - Page 2...\n",
      "❌ No products found on this page.\n",
      "\n",
      "🔹 Starting category: SPORT-FITNESS\n",
      "\n",
      "📄 Scraping sport-fitness - Page 1...\n",
      "✅ Page 1 done! (40 products)\n",
      "\n",
      "📄 Scraping sport-fitness - Page 2...\n",
      "✅ Page 2 done! (40 products)\n",
      "\n",
      "🔹 Starting category: AUTOMOBILE\n",
      "\n",
      "📄 Scraping automobile - Page 1...\n",
      "✅ Page 1 done! (40 products)\n",
      "\n",
      "📄 Scraping automobile - Page 2...\n",
      "✅ Page 2 done! (40 products)\n",
      "\n",
      "🔹 Starting category: GARDEN-OUTDOORS\n",
      "\n",
      "📄 Scraping garden-outdoors - Page 1...\n",
      "⚠️ Skipping https://www.jumia.com.ng/garden-outdoors/?page=1#catalog-listing (Status 404)\n",
      "\n",
      "📄 Scraping garden-outdoors - Page 2...\n",
      "⚠️ Skipping https://www.jumia.com.ng/garden-outdoors/?page=2#catalog-listing (Status 404)\n",
      "\n",
      "🔹 Starting category: PET-SUPPLIES\n",
      "\n",
      "📄 Scraping pet-supplies - Page 1...\n",
      "✅ Page 1 done! (40 products)\n",
      "\n",
      "📄 Scraping pet-supplies - Page 2...\n",
      "✅ Page 2 done! (40 products)\n",
      "\n",
      "✅ Data saved successfully to 'jumia_products_with_brands.csv'\n"
     ]
    }
   ],
   "source": [
    "# Define categories and base URLs\n",
    "# -----------------------------------------\n",
    "categories = {\n",
    "    \"phones-tablets\": \"https://www.jumia.com.ng/phones-tablets/\",\n",
    "    \"electronics\": \"https://www.jumia.com.ng/electronics/\",\n",
    "    \"computing\": \"https://www.jumia.com.ng/computing/\",\n",
    "    \"home-office\": \"https://www.jumia.com.ng/home-office/\",\n",
    "    \"health-beauty\": \"https://www.jumia.com.ng/health-beauty/\",\n",
    "    \"fashion-men\": \"https://www.jumia.com.ng/men-fashion/\",\n",
    "    \"fashion-women\": \"https://www.jumia.com.ng/women-fashion/\",\n",
    "    \"groceries\": \"https://www.jumia.com.ng/groceries/\",\n",
    "    \"supermarket\": \"https://www.jumia.com.ng/supermarket/\",\n",
    "    \"baby-products\": \"https://www.jumia.com.ng/baby-products/\",\n",
    "    \"gaming\": \"https://www.jumia.com.ng/gaming/\",\n",
    "    \"sport-fitness\": \"https://www.jumia.com.ng/sporting-goods/\",\n",
    "    \"automobile\": \"https://www.jumia.com.ng/automobile/\",\n",
    "    \"garden-outdoors\": \"https://www.jumia.com.ng/garden-outdoors/\",\n",
    "    \"pet-supplies\": \"https://www.jumia.com.ng/pet-supplies/\",\n",
    "}\n",
    "\n",
    "# -----------------------------------------\n",
    "# Step 2: Headers (pretend to be a browser)\n",
    "# -----------------------------------------\n",
    "headers = {\n",
    "    \"User-Agent\": (\n",
    "        \"Mozilla/5.0 (Windows NT 10.0; Win64; x64) \"\n",
    "        \"AppleWebKit/537.36 (KHTML, like Gecko) \"\n",
    "        \"Chrome/120.0.0.0 Safari/537.36\"\n",
    "    ),\n",
    "    \"Accept-Language\": \"en-US,en;q=0.9\",\n",
    "}\n",
    "\n",
    "# -----------------------------------------\n",
    "# Step 3: Helper function to scrape one category\n",
    "# -----------------------------------------\n",
    "def scrape_category(category_name, url, pages=2):\n",
    "    all_products = []\n",
    "\n",
    "    for page in range(1, pages + 1):\n",
    "        page_url = f\"{url}?page={page}#catalog-listing\"\n",
    "        print(f\"\\n📄 Scraping {category_name} - Page {page}...\")\n",
    "\n",
    "        try:\n",
    "            response = requests.get(page_url, headers=headers, timeout=10)\n",
    "            if response.status_code != 200:\n",
    "                print(f\"⚠️ Skipping {page_url} (Status {response.status_code})\")\n",
    "                continue\n",
    "\n",
    "            soup = BeautifulSoup(response.text, \"html.parser\")\n",
    "            products = soup.find_all(\"article\", class_=\"prd _fb col c-prd\")\n",
    "\n",
    "            if not products:\n",
    "                print(\"❌ No products found on this page.\")\n",
    "                break\n",
    "\n",
    "            for product in products:\n",
    "                name_tag = product.find(\"h3\", class_=\"name\")\n",
    "                name = name_tag.text.strip() if name_tag else None\n",
    "\n",
    "                # Try to guess brand from product name\n",
    "                if name:\n",
    "                    brand_guess = name.split()[0] if len(name.split()) > 0 else None\n",
    "                else:\n",
    "                    brand_guess = None\n",
    "\n",
    "                price = product.find(\"div\", class_=\"prc\")\n",
    "                old_price = product.find(\"div\", class_=\"old\")\n",
    "                rating = product.find(\"div\", class_=\"stars _s\")\n",
    "                link = product.find(\"a\", href=True)\n",
    "\n",
    "                all_products.append({\n",
    "                    \"Category\": category_name,\n",
    "                    \"Name\": name,\n",
    "                    \"Brand\": brand_guess,\n",
    "                    \"Price\": price.text.strip() if price else None,\n",
    "                    \"Old_Price\": old_price.text.strip() if old_price else None,\n",
    "                    \"Rating\": rating.text.strip() if rating else None,\n",
    "                    \"Link\": \"https://www.jumia.com.ng\" + link[\"href\"] if link else None\n",
    "                })\n",
    "\n",
    "            print(f\"✅ Page {page} done! ({len(products)} products)\")\n",
    "            time.sleep(3)\n",
    "\n",
    "        except RequestException as e:\n",
    "            print(f\"🚫 Error fetching {page_url}: {e}\")\n",
    "            time.sleep(5)\n",
    "            continue\n",
    "\n",
    "    return all_products\n",
    "\n",
    "# -----------------------------------------\n",
    "# Step 4: Loop through all categories\n",
    "# -----------------------------------------\n",
    "all_data = []\n",
    "\n",
    "for cat_name, cat_url in categories.items():\n",
    "    print(f\"\\n🔹 Starting category: {cat_name.upper()}\")\n",
    "    data = scrape_category(cat_name, cat_url, pages=2)\n",
    "    all_data.extend(data)\n",
    "\n",
    "# -----------------------------------------\n",
    "# Step 5: Save to CSV\n",
    "# -----------------------------------------\n",
    "if all_data:\n",
    "    df = pd.DataFrame(all_data)\n",
    "    df.to_csv(\"jumia_products_with_brands.csv\", index=False, encoding=\"utf-8-sig\")\n",
    "    print(\"\\n✅ Data saved successfully to 'jumia_products_with_brands.csv'\")\n",
    "else:\n",
    "    print(\"\\n⚠️ No data scraped. Please check your connection or try again later.\")\n"
   ]
  },
  {
   "cell_type": "code",
   "execution_count": 6,
   "id": "931b5828",
   "metadata": {},
   "outputs": [
    {
     "data": {
      "text/html": [
       "<div>\n",
       "<style scoped>\n",
       "    .dataframe tbody tr th:only-of-type {\n",
       "        vertical-align: middle;\n",
       "    }\n",
       "\n",
       "    .dataframe tbody tr th {\n",
       "        vertical-align: top;\n",
       "    }\n",
       "\n",
       "    .dataframe thead th {\n",
       "        text-align: right;\n",
       "    }\n",
       "</style>\n",
       "<table border=\"1\" class=\"dataframe\">\n",
       "  <thead>\n",
       "    <tr style=\"text-align: right;\">\n",
       "      <th></th>\n",
       "      <th>Category</th>\n",
       "      <th>Name</th>\n",
       "      <th>Brand</th>\n",
       "      <th>Price</th>\n",
       "      <th>Old_Price</th>\n",
       "      <th>Rating</th>\n",
       "      <th>Link</th>\n",
       "    </tr>\n",
       "  </thead>\n",
       "  <tbody>\n",
       "    <tr>\n",
       "      <th>0</th>\n",
       "      <td>phones-tablets</td>\n",
       "      <td>Ace Elec 20000 MAh Utra Slim Portable Power Ba...</td>\n",
       "      <td>Ace</td>\n",
       "      <td>₦ 6,908</td>\n",
       "      <td>None</td>\n",
       "      <td>3.7 out of 5</td>\n",
       "      <td>https://www.jumia.com.ng/customer/account/logi...</td>\n",
       "    </tr>\n",
       "    <tr>\n",
       "      <th>1</th>\n",
       "      <td>phones-tablets</td>\n",
       "      <td>EASYPIE EasyPie 20000mAh Dual Fast Charge 64W ...</td>\n",
       "      <td>EASYPIE</td>\n",
       "      <td>₦ 6,960</td>\n",
       "      <td>₦ 8,618</td>\n",
       "      <td>3.6 out of 5</td>\n",
       "      <td>https://www.jumia.com.ng/customer/account/logi...</td>\n",
       "    </tr>\n",
       "    <tr>\n",
       "      <th>2</th>\n",
       "      <td>phones-tablets</td>\n",
       "      <td>Philly 20000mAh Power Charging Bank Portable C...</td>\n",
       "      <td>Philly</td>\n",
       "      <td>₦ 6,946</td>\n",
       "      <td>₦ 12,971</td>\n",
       "      <td>3.6 out of 5</td>\n",
       "      <td>https://www.jumia.com.ng/customer/account/logi...</td>\n",
       "    </tr>\n",
       "    <tr>\n",
       "      <th>3</th>\n",
       "      <td>phones-tablets</td>\n",
       "      <td>VIC ♛20000mAh Power Banks 74Wh Portable Charge...</td>\n",
       "      <td>VIC</td>\n",
       "      <td>₦ 4,910</td>\n",
       "      <td>₦ 18,830</td>\n",
       "      <td>3.4 out of 5</td>\n",
       "      <td>https://www.jumia.com.ng/customer/account/logi...</td>\n",
       "    </tr>\n",
       "    <tr>\n",
       "      <th>4</th>\n",
       "      <td>phones-tablets</td>\n",
       "      <td>Oraimo Traveler 12 20000mAh 12W Power Bank</td>\n",
       "      <td>Oraimo</td>\n",
       "      <td>₦ 13,635</td>\n",
       "      <td>₦ 22,469</td>\n",
       "      <td>4 out of 5</td>\n",
       "      <td>https://www.jumia.com.ng/customer/account/logi...</td>\n",
       "    </tr>\n",
       "  </tbody>\n",
       "</table>\n",
       "</div>"
      ],
      "text/plain": [
       "         Category                                               Name    Brand  \\\n",
       "0  phones-tablets  Ace Elec 20000 MAh Utra Slim Portable Power Ba...      Ace   \n",
       "1  phones-tablets  EASYPIE EasyPie 20000mAh Dual Fast Charge 64W ...  EASYPIE   \n",
       "2  phones-tablets  Philly 20000mAh Power Charging Bank Portable C...   Philly   \n",
       "3  phones-tablets  VIC ♛20000mAh Power Banks 74Wh Portable Charge...      VIC   \n",
       "4  phones-tablets         Oraimo Traveler 12 20000mAh 12W Power Bank   Oraimo   \n",
       "\n",
       "      Price Old_Price        Rating  \\\n",
       "0   ₦ 6,908      None  3.7 out of 5   \n",
       "1   ₦ 6,960   ₦ 8,618  3.6 out of 5   \n",
       "2   ₦ 6,946  ₦ 12,971  3.6 out of 5   \n",
       "3   ₦ 4,910  ₦ 18,830  3.4 out of 5   \n",
       "4  ₦ 13,635  ₦ 22,469    4 out of 5   \n",
       "\n",
       "                                                Link  \n",
       "0  https://www.jumia.com.ng/customer/account/logi...  \n",
       "1  https://www.jumia.com.ng/customer/account/logi...  \n",
       "2  https://www.jumia.com.ng/customer/account/logi...  \n",
       "3  https://www.jumia.com.ng/customer/account/logi...  \n",
       "4  https://www.jumia.com.ng/customer/account/logi...  "
      ]
     },
     "execution_count": 6,
     "metadata": {},
     "output_type": "execute_result"
    }
   ],
   "source": [
    "df.head()"
   ]
  },
  {
   "cell_type": "code",
   "execution_count": 8,
   "id": "d36ca4c2",
   "metadata": {},
   "outputs": [
    {
     "data": {
      "text/plain": [
       "(811, 7)"
      ]
     },
     "execution_count": 8,
     "metadata": {},
     "output_type": "execute_result"
    }
   ],
   "source": [
    "df.shape"
   ]
  },
  {
   "cell_type": "code",
   "execution_count": 9,
   "id": "14cd5df6",
   "metadata": {},
   "outputs": [
    {
     "data": {
      "text/plain": [
       "(811, 7)"
      ]
     },
     "execution_count": 9,
     "metadata": {},
     "output_type": "execute_result"
    }
   ],
   "source": [
    "df.shape"
   ]
  },
  {
   "cell_type": "code",
   "execution_count": 10,
   "id": "11f44550",
   "metadata": {},
   "outputs": [
    {
     "data": {
      "text/html": [
       "<div>\n",
       "<style scoped>\n",
       "    .dataframe tbody tr th:only-of-type {\n",
       "        vertical-align: middle;\n",
       "    }\n",
       "\n",
       "    .dataframe tbody tr th {\n",
       "        vertical-align: top;\n",
       "    }\n",
       "\n",
       "    .dataframe thead th {\n",
       "        text-align: right;\n",
       "    }\n",
       "</style>\n",
       "<table border=\"1\" class=\"dataframe\">\n",
       "  <thead>\n",
       "    <tr style=\"text-align: right;\">\n",
       "      <th></th>\n",
       "      <th>Category</th>\n",
       "      <th>Name</th>\n",
       "      <th>Brand</th>\n",
       "      <th>Price</th>\n",
       "      <th>Old_Price</th>\n",
       "      <th>Rating</th>\n",
       "      <th>Link</th>\n",
       "    </tr>\n",
       "  </thead>\n",
       "  <tbody>\n",
       "    <tr>\n",
       "      <th>count</th>\n",
       "      <td>811</td>\n",
       "      <td>811</td>\n",
       "      <td>811</td>\n",
       "      <td>811</td>\n",
       "      <td>644</td>\n",
       "      <td>759</td>\n",
       "      <td>811</td>\n",
       "    </tr>\n",
       "    <tr>\n",
       "      <th>unique</th>\n",
       "      <td>11</td>\n",
       "      <td>781</td>\n",
       "      <td>381</td>\n",
       "      <td>633</td>\n",
       "      <td>443</td>\n",
       "      <td>25</td>\n",
       "      <td>811</td>\n",
       "    </tr>\n",
       "    <tr>\n",
       "      <th>top</th>\n",
       "      <td>phones-tablets</td>\n",
       "      <td>Adjustable Jump Skipping Rope Cable For Adults...</td>\n",
       "      <td>NIVEA</td>\n",
       "      <td>₦ 7,999</td>\n",
       "      <td>₦ 10,000</td>\n",
       "      <td>4 out of 5</td>\n",
       "      <td>https://www.jumia.com.ng/customer/account/logi...</td>\n",
       "    </tr>\n",
       "    <tr>\n",
       "      <th>freq</th>\n",
       "      <td>80</td>\n",
       "      <td>4</td>\n",
       "      <td>29</td>\n",
       "      <td>11</td>\n",
       "      <td>23</td>\n",
       "      <td>84</td>\n",
       "      <td>1</td>\n",
       "    </tr>\n",
       "  </tbody>\n",
       "</table>\n",
       "</div>"
      ],
      "text/plain": [
       "              Category                                               Name  \\\n",
       "count              811                                                811   \n",
       "unique              11                                                781   \n",
       "top     phones-tablets  Adjustable Jump Skipping Rope Cable For Adults...   \n",
       "freq                80                                                  4   \n",
       "\n",
       "        Brand    Price Old_Price      Rating  \\\n",
       "count     811      811       644         759   \n",
       "unique    381      633       443          25   \n",
       "top     NIVEA  ₦ 7,999  ₦ 10,000  4 out of 5   \n",
       "freq       29       11        23          84   \n",
       "\n",
       "                                                     Link  \n",
       "count                                                 811  \n",
       "unique                                                811  \n",
       "top     https://www.jumia.com.ng/customer/account/logi...  \n",
       "freq                                                    1  "
      ]
     },
     "execution_count": 10,
     "metadata": {},
     "output_type": "execute_result"
    }
   ],
   "source": [
    "df.describe()"
   ]
  },
  {
   "cell_type": "code",
   "execution_count": 11,
   "id": "82dd3853",
   "metadata": {},
   "outputs": [
    {
     "name": "stdout",
     "output_type": "stream",
     "text": [
      "<class 'pandas.core.frame.DataFrame'>\n",
      "RangeIndex: 811 entries, 0 to 810\n",
      "Data columns (total 7 columns):\n",
      " #   Column     Non-Null Count  Dtype \n",
      "---  ------     --------------  ----- \n",
      " 0   Category   811 non-null    object\n",
      " 1   Name       811 non-null    object\n",
      " 2   Brand      811 non-null    object\n",
      " 3   Price      811 non-null    object\n",
      " 4   Old_Price  644 non-null    object\n",
      " 5   Rating     759 non-null    object\n",
      " 6   Link       811 non-null    object\n",
      "dtypes: object(7)\n",
      "memory usage: 44.5+ KB\n"
     ]
    }
   ],
   "source": [
    "df.info()"
   ]
  },
  {
   "cell_type": "code",
   "execution_count": 12,
   "id": "26bb746c",
   "metadata": {},
   "outputs": [
    {
     "data": {
      "text/plain": [
       "Category       0\n",
       "Name           0\n",
       "Brand          0\n",
       "Price          0\n",
       "Old_Price    167\n",
       "Rating        52\n",
       "Link           0\n",
       "dtype: int64"
      ]
     },
     "execution_count": 12,
     "metadata": {},
     "output_type": "execute_result"
    }
   ],
   "source": [
    "df.isnull().sum()"
   ]
  },
  {
   "cell_type": "markdown",
   "id": "2ac92ef9",
   "metadata": {},
   "source": [
    "## Data Cleaning"
   ]
  },
  {
   "cell_type": "code",
   "execution_count": 15,
   "id": "2550891f",
   "metadata": {},
   "outputs": [],
   "source": [
    "# Remove Naira sign and comma\n",
    "df['Price'] = (df['Price'].astype(str).str.replace('₦', '', regex=False).str.replace(',', '', regex=False).str.strip())\n",
    "df['Old_Price'] = (df['Old_Price'].astype(str).str.replace('₦', '', regex=False).str.replace(',', '', regex=False).str.strip())\n",
    "\n",
    "# Convert to numeric\n",
    "df['Price'] = pd.to_numeric(df['Price'], errors='coerce')\n",
    "df['Old_Price'] = pd.to_numeric(df['Old_Price'], errors='coerce')\n",
    "\n",
    "# fill missing Old_Price with Price\n",
    "df['Old_Price'].fillna(df['Price'], inplace=True)\n",
    "\n",
    "# if Price was NaN but Old_Price exist\n",
    "df['Price'].fillna(df['Old_Price'], inplace=True)\n",
    "\n",
    "# calculate discount\n",
    "df['Discount'] = ((df['Old_Price'] - df['Price']) / df['Old_Price']) * 100\n",
    "df['Discount'] = df['Discount'].round(2)\n",
    "\n",
    "# replace NaN in Discount (no discount) with 0\n",
    "df['Discount'].fillna(0, inplace=True)"
   ]
  },
  {
   "cell_type": "code",
   "execution_count": 16,
   "id": "2d97f9af",
   "metadata": {},
   "outputs": [
    {
     "data": {
      "text/html": [
       "<div>\n",
       "<style scoped>\n",
       "    .dataframe tbody tr th:only-of-type {\n",
       "        vertical-align: middle;\n",
       "    }\n",
       "\n",
       "    .dataframe tbody tr th {\n",
       "        vertical-align: top;\n",
       "    }\n",
       "\n",
       "    .dataframe thead th {\n",
       "        text-align: right;\n",
       "    }\n",
       "</style>\n",
       "<table border=\"1\" class=\"dataframe\">\n",
       "  <thead>\n",
       "    <tr style=\"text-align: right;\">\n",
       "      <th></th>\n",
       "      <th>Category</th>\n",
       "      <th>Name</th>\n",
       "      <th>Brand</th>\n",
       "      <th>Price</th>\n",
       "      <th>Old_Price</th>\n",
       "      <th>Rating</th>\n",
       "      <th>Link</th>\n",
       "      <th>Discount</th>\n",
       "    </tr>\n",
       "  </thead>\n",
       "  <tbody>\n",
       "    <tr>\n",
       "      <th>0</th>\n",
       "      <td>phones-tablets</td>\n",
       "      <td>Ace Elec 20000 MAh Utra Slim Portable Power Ba...</td>\n",
       "      <td>Ace</td>\n",
       "      <td>6908.0</td>\n",
       "      <td>6908.0</td>\n",
       "      <td>3.7 out of 5</td>\n",
       "      <td>https://www.jumia.com.ng/customer/account/logi...</td>\n",
       "      <td>0.00</td>\n",
       "    </tr>\n",
       "    <tr>\n",
       "      <th>1</th>\n",
       "      <td>phones-tablets</td>\n",
       "      <td>EASYPIE EasyPie 20000mAh Dual Fast Charge 64W ...</td>\n",
       "      <td>EASYPIE</td>\n",
       "      <td>6960.0</td>\n",
       "      <td>8618.0</td>\n",
       "      <td>3.6 out of 5</td>\n",
       "      <td>https://www.jumia.com.ng/customer/account/logi...</td>\n",
       "      <td>19.24</td>\n",
       "    </tr>\n",
       "    <tr>\n",
       "      <th>2</th>\n",
       "      <td>phones-tablets</td>\n",
       "      <td>Philly 20000mAh Power Charging Bank Portable C...</td>\n",
       "      <td>Philly</td>\n",
       "      <td>6946.0</td>\n",
       "      <td>12971.0</td>\n",
       "      <td>3.6 out of 5</td>\n",
       "      <td>https://www.jumia.com.ng/customer/account/logi...</td>\n",
       "      <td>46.45</td>\n",
       "    </tr>\n",
       "    <tr>\n",
       "      <th>3</th>\n",
       "      <td>phones-tablets</td>\n",
       "      <td>VIC ♛20000mAh Power Banks 74Wh Portable Charge...</td>\n",
       "      <td>VIC</td>\n",
       "      <td>4910.0</td>\n",
       "      <td>18830.0</td>\n",
       "      <td>3.4 out of 5</td>\n",
       "      <td>https://www.jumia.com.ng/customer/account/logi...</td>\n",
       "      <td>73.92</td>\n",
       "    </tr>\n",
       "    <tr>\n",
       "      <th>4</th>\n",
       "      <td>phones-tablets</td>\n",
       "      <td>Oraimo Traveler 12 20000mAh 12W Power Bank</td>\n",
       "      <td>Oraimo</td>\n",
       "      <td>13635.0</td>\n",
       "      <td>22469.0</td>\n",
       "      <td>4 out of 5</td>\n",
       "      <td>https://www.jumia.com.ng/customer/account/logi...</td>\n",
       "      <td>39.32</td>\n",
       "    </tr>\n",
       "  </tbody>\n",
       "</table>\n",
       "</div>"
      ],
      "text/plain": [
       "         Category                                               Name    Brand  \\\n",
       "0  phones-tablets  Ace Elec 20000 MAh Utra Slim Portable Power Ba...      Ace   \n",
       "1  phones-tablets  EASYPIE EasyPie 20000mAh Dual Fast Charge 64W ...  EASYPIE   \n",
       "2  phones-tablets  Philly 20000mAh Power Charging Bank Portable C...   Philly   \n",
       "3  phones-tablets  VIC ♛20000mAh Power Banks 74Wh Portable Charge...      VIC   \n",
       "4  phones-tablets         Oraimo Traveler 12 20000mAh 12W Power Bank   Oraimo   \n",
       "\n",
       "     Price  Old_Price        Rating  \\\n",
       "0   6908.0     6908.0  3.7 out of 5   \n",
       "1   6960.0     8618.0  3.6 out of 5   \n",
       "2   6946.0    12971.0  3.6 out of 5   \n",
       "3   4910.0    18830.0  3.4 out of 5   \n",
       "4  13635.0    22469.0    4 out of 5   \n",
       "\n",
       "                                                Link  Discount  \n",
       "0  https://www.jumia.com.ng/customer/account/logi...      0.00  \n",
       "1  https://www.jumia.com.ng/customer/account/logi...     19.24  \n",
       "2  https://www.jumia.com.ng/customer/account/logi...     46.45  \n",
       "3  https://www.jumia.com.ng/customer/account/logi...     73.92  \n",
       "4  https://www.jumia.com.ng/customer/account/logi...     39.32  "
      ]
     },
     "execution_count": 16,
     "metadata": {},
     "output_type": "execute_result"
    }
   ],
   "source": [
    "df.head()"
   ]
  },
  {
   "cell_type": "code",
   "execution_count": 17,
   "id": "bdf9aa30",
   "metadata": {},
   "outputs": [
    {
     "data": {
      "text/plain": [
       "Category      0\n",
       "Name          0\n",
       "Brand         0\n",
       "Price        12\n",
       "Old_Price    12\n",
       "Rating       52\n",
       "Link          0\n",
       "Discount      0\n",
       "dtype: int64"
      ]
     },
     "execution_count": 17,
     "metadata": {},
     "output_type": "execute_result"
    }
   ],
   "source": [
    "df.isnull().sum()"
   ]
  },
  {
   "cell_type": "code",
   "execution_count": 18,
   "id": "b5a38fbf",
   "metadata": {},
   "outputs": [
    {
     "data": {
      "text/html": [
       "<div>\n",
       "<style scoped>\n",
       "    .dataframe tbody tr th:only-of-type {\n",
       "        vertical-align: middle;\n",
       "    }\n",
       "\n",
       "    .dataframe tbody tr th {\n",
       "        vertical-align: top;\n",
       "    }\n",
       "\n",
       "    .dataframe thead th {\n",
       "        text-align: right;\n",
       "    }\n",
       "</style>\n",
       "<table border=\"1\" class=\"dataframe\">\n",
       "  <thead>\n",
       "    <tr style=\"text-align: right;\">\n",
       "      <th></th>\n",
       "      <th>Category</th>\n",
       "      <th>Name</th>\n",
       "      <th>Brand</th>\n",
       "      <th>Price</th>\n",
       "      <th>Old_Price</th>\n",
       "      <th>Rating</th>\n",
       "      <th>Link</th>\n",
       "      <th>Discount</th>\n",
       "    </tr>\n",
       "  </thead>\n",
       "  <tbody>\n",
       "    <tr>\n",
       "      <th>132</th>\n",
       "      <td>electronics</td>\n",
       "      <td>P9 Wireless Headset-blue</td>\n",
       "      <td>P9</td>\n",
       "      <td>NaN</td>\n",
       "      <td>NaN</td>\n",
       "      <td>3.7 out of 5</td>\n",
       "      <td>https://www.jumia.com.ng/fashion-p9-wireless-h...</td>\n",
       "      <td>0.0</td>\n",
       "    </tr>\n",
       "    <tr>\n",
       "      <th>381</th>\n",
       "      <td>health-beauty</td>\n",
       "      <td>PAK NUTRITION Creatine Monohydrate Powder - Le...</td>\n",
       "      <td>PAK</td>\n",
       "      <td>NaN</td>\n",
       "      <td>NaN</td>\n",
       "      <td>4.3 out of 5</td>\n",
       "      <td>https://www.jumia.com.ng/pak-nutrition-creatin...</td>\n",
       "      <td>0.0</td>\n",
       "    </tr>\n",
       "    <tr>\n",
       "      <th>572</th>\n",
       "      <td>sport-fitness</td>\n",
       "      <td>Singleton Multicoloured 3-in-1 Men's Singlets</td>\n",
       "      <td>Singleton</td>\n",
       "      <td>NaN</td>\n",
       "      <td>NaN</td>\n",
       "      <td>4.1 out of 5</td>\n",
       "      <td>https://www.jumia.com.ng/singleton-multicolour...</td>\n",
       "      <td>0.0</td>\n",
       "    </tr>\n",
       "    <tr>\n",
       "      <th>574</th>\n",
       "      <td>sport-fitness</td>\n",
       "      <td>All-Season Universal Large Capacity Insulated ...</td>\n",
       "      <td>All-Season</td>\n",
       "      <td>NaN</td>\n",
       "      <td>NaN</td>\n",
       "      <td>4 out of 5</td>\n",
       "      <td>https://www.jumia.com.ng/generic-all-season-un...</td>\n",
       "      <td>0.0</td>\n",
       "    </tr>\n",
       "    <tr>\n",
       "      <th>595</th>\n",
       "      <td>sport-fitness</td>\n",
       "      <td>Singleton Multicoloured 3-in-1 Men's Singlets</td>\n",
       "      <td>Singleton</td>\n",
       "      <td>NaN</td>\n",
       "      <td>NaN</td>\n",
       "      <td>4.1 out of 5</td>\n",
       "      <td>https://www.jumia.com.ng/singleton-multicolour...</td>\n",
       "      <td>0.0</td>\n",
       "    </tr>\n",
       "    <tr>\n",
       "      <th>624</th>\n",
       "      <td>sport-fitness</td>\n",
       "      <td>3-in-1 Premium Singlet Men's (UnderWear) – Bla...</td>\n",
       "      <td>3-in-1</td>\n",
       "      <td>NaN</td>\n",
       "      <td>NaN</td>\n",
       "      <td>3.5 out of 5</td>\n",
       "      <td>https://www.jumia.com.ng/fashion-3-in-1-premiu...</td>\n",
       "      <td>0.0</td>\n",
       "    </tr>\n",
       "    <tr>\n",
       "      <th>675</th>\n",
       "      <td>automobile</td>\n",
       "      <td>50-500pcs Set Universal Plastic Clips For Car ...</td>\n",
       "      <td>50-500pcs</td>\n",
       "      <td>NaN</td>\n",
       "      <td>NaN</td>\n",
       "      <td>4.6 out of 5</td>\n",
       "      <td>https://www.jumia.com.ng/generic-50-500pcs-set...</td>\n",
       "      <td>0.0</td>\n",
       "    </tr>\n",
       "    <tr>\n",
       "      <th>710</th>\n",
       "      <td>automobile</td>\n",
       "      <td>Cover Car Body Cover /Sun Anti Dust Rain Cover...</td>\n",
       "      <td>Cover</td>\n",
       "      <td>NaN</td>\n",
       "      <td>NaN</td>\n",
       "      <td>5 out of 5</td>\n",
       "      <td>https://www.jumia.com.ng/generic-cover-car-bod...</td>\n",
       "      <td>0.0</td>\n",
       "    </tr>\n",
       "    <tr>\n",
       "      <th>753</th>\n",
       "      <td>pet-supplies</td>\n",
       "      <td>Reflective Collar Cats Puppy And Small Dogs Wi...</td>\n",
       "      <td>Reflective</td>\n",
       "      <td>NaN</td>\n",
       "      <td>NaN</td>\n",
       "      <td>4 out of 5</td>\n",
       "      <td>https://www.jumia.com.ng/generic-reflective-co...</td>\n",
       "      <td>0.0</td>\n",
       "    </tr>\n",
       "    <tr>\n",
       "      <th>759</th>\n",
       "      <td>pet-supplies</td>\n",
       "      <td>TD Dog&amp;Cat Bowl Stainless Feeder Anti-slip Aut...</td>\n",
       "      <td>TD</td>\n",
       "      <td>NaN</td>\n",
       "      <td>NaN</td>\n",
       "      <td>4.4 out of 5</td>\n",
       "      <td>https://www.jumia.com.ng/td-dogcat-bowl-stainl...</td>\n",
       "      <td>0.0</td>\n",
       "    </tr>\n",
       "    <tr>\n",
       "      <th>767</th>\n",
       "      <td>pet-supplies</td>\n",
       "      <td>TD Dog Crate Cover For Foldable Metal Cage Black</td>\n",
       "      <td>TD</td>\n",
       "      <td>NaN</td>\n",
       "      <td>NaN</td>\n",
       "      <td>None</td>\n",
       "      <td>https://www.jumia.com.ng/td-dog-crate-cover-fo...</td>\n",
       "      <td>0.0</td>\n",
       "    </tr>\n",
       "    <tr>\n",
       "      <th>781</th>\n",
       "      <td>pet-supplies</td>\n",
       "      <td>Ear Tag For Livestock</td>\n",
       "      <td>Ear</td>\n",
       "      <td>NaN</td>\n",
       "      <td>NaN</td>\n",
       "      <td>5 out of 5</td>\n",
       "      <td>https://www.jumia.com.ng/generic-ear-tag-for-l...</td>\n",
       "      <td>0.0</td>\n",
       "    </tr>\n",
       "  </tbody>\n",
       "</table>\n",
       "</div>"
      ],
      "text/plain": [
       "          Category                                               Name  \\\n",
       "132    electronics                           P9 Wireless Headset-blue   \n",
       "381  health-beauty  PAK NUTRITION Creatine Monohydrate Powder - Le...   \n",
       "572  sport-fitness      Singleton Multicoloured 3-in-1 Men's Singlets   \n",
       "574  sport-fitness  All-Season Universal Large Capacity Insulated ...   \n",
       "595  sport-fitness      Singleton Multicoloured 3-in-1 Men's Singlets   \n",
       "624  sport-fitness  3-in-1 Premium Singlet Men's (UnderWear) – Bla...   \n",
       "675     automobile  50-500pcs Set Universal Plastic Clips For Car ...   \n",
       "710     automobile  Cover Car Body Cover /Sun Anti Dust Rain Cover...   \n",
       "753   pet-supplies  Reflective Collar Cats Puppy And Small Dogs Wi...   \n",
       "759   pet-supplies  TD Dog&Cat Bowl Stainless Feeder Anti-slip Aut...   \n",
       "767   pet-supplies   TD Dog Crate Cover For Foldable Metal Cage Black   \n",
       "781   pet-supplies                              Ear Tag For Livestock   \n",
       "\n",
       "          Brand  Price  Old_Price        Rating  \\\n",
       "132          P9    NaN        NaN  3.7 out of 5   \n",
       "381         PAK    NaN        NaN  4.3 out of 5   \n",
       "572   Singleton    NaN        NaN  4.1 out of 5   \n",
       "574  All-Season    NaN        NaN    4 out of 5   \n",
       "595   Singleton    NaN        NaN  4.1 out of 5   \n",
       "624      3-in-1    NaN        NaN  3.5 out of 5   \n",
       "675   50-500pcs    NaN        NaN  4.6 out of 5   \n",
       "710       Cover    NaN        NaN    5 out of 5   \n",
       "753  Reflective    NaN        NaN    4 out of 5   \n",
       "759          TD    NaN        NaN  4.4 out of 5   \n",
       "767          TD    NaN        NaN          None   \n",
       "781         Ear    NaN        NaN    5 out of 5   \n",
       "\n",
       "                                                  Link  Discount  \n",
       "132  https://www.jumia.com.ng/fashion-p9-wireless-h...       0.0  \n",
       "381  https://www.jumia.com.ng/pak-nutrition-creatin...       0.0  \n",
       "572  https://www.jumia.com.ng/singleton-multicolour...       0.0  \n",
       "574  https://www.jumia.com.ng/generic-all-season-un...       0.0  \n",
       "595  https://www.jumia.com.ng/singleton-multicolour...       0.0  \n",
       "624  https://www.jumia.com.ng/fashion-3-in-1-premiu...       0.0  \n",
       "675  https://www.jumia.com.ng/generic-50-500pcs-set...       0.0  \n",
       "710  https://www.jumia.com.ng/generic-cover-car-bod...       0.0  \n",
       "753  https://www.jumia.com.ng/generic-reflective-co...       0.0  \n",
       "759  https://www.jumia.com.ng/td-dogcat-bowl-stainl...       0.0  \n",
       "767  https://www.jumia.com.ng/td-dog-crate-cover-fo...       0.0  \n",
       "781  https://www.jumia.com.ng/generic-ear-tag-for-l...       0.0  "
      ]
     },
     "execution_count": 18,
     "metadata": {},
     "output_type": "execute_result"
    }
   ],
   "source": [
    "df[df['Price'].isna() | df['Old_Price'].isna()]"
   ]
  },
  {
   "cell_type": "code",
   "execution_count": 19,
   "id": "56d7443a",
   "metadata": {},
   "outputs": [],
   "source": [
    "df.dropna(subset=['Price', 'Old_Price'], how='all', inplace=True)"
   ]
  },
  {
   "cell_type": "code",
   "execution_count": 20,
   "id": "0a4c40ab",
   "metadata": {},
   "outputs": [
    {
     "data": {
      "text/plain": [
       "Category      0\n",
       "Name          0\n",
       "Brand         0\n",
       "Price         0\n",
       "Old_Price     0\n",
       "Rating       51\n",
       "Link          0\n",
       "Discount      0\n",
       "dtype: int64"
      ]
     },
     "execution_count": 20,
     "metadata": {},
     "output_type": "execute_result"
    }
   ],
   "source": [
    "df.isnull().sum()"
   ]
  },
  {
   "cell_type": "code",
   "execution_count": 21,
   "id": "817c0a4c",
   "metadata": {},
   "outputs": [],
   "source": [
    "# chaning Rating into numeric\n",
    "def clean_rating(text):\n",
    "    text = str(text).strip()\n",
    "    match = re.search(r\"(\\d+(\\.\\d+)?)\", text)\n",
    "    if match:\n",
    "        return float(match.group(1))\n",
    "    return None\n",
    "df['Rating'] = df['Rating'].apply(clean_rating)"
   ]
  },
  {
   "cell_type": "code",
   "execution_count": 22,
   "id": "8d92375c",
   "metadata": {},
   "outputs": [
    {
     "data": {
      "text/html": [
       "<div>\n",
       "<style scoped>\n",
       "    .dataframe tbody tr th:only-of-type {\n",
       "        vertical-align: middle;\n",
       "    }\n",
       "\n",
       "    .dataframe tbody tr th {\n",
       "        vertical-align: top;\n",
       "    }\n",
       "\n",
       "    .dataframe thead th {\n",
       "        text-align: right;\n",
       "    }\n",
       "</style>\n",
       "<table border=\"1\" class=\"dataframe\">\n",
       "  <thead>\n",
       "    <tr style=\"text-align: right;\">\n",
       "      <th></th>\n",
       "      <th>Category</th>\n",
       "      <th>Name</th>\n",
       "      <th>Brand</th>\n",
       "      <th>Price</th>\n",
       "      <th>Old_Price</th>\n",
       "      <th>Rating</th>\n",
       "      <th>Link</th>\n",
       "      <th>Discount</th>\n",
       "    </tr>\n",
       "  </thead>\n",
       "  <tbody>\n",
       "    <tr>\n",
       "      <th>0</th>\n",
       "      <td>phones-tablets</td>\n",
       "      <td>Ace Elec 20000 MAh Utra Slim Portable Power Ba...</td>\n",
       "      <td>Ace</td>\n",
       "      <td>6908.0</td>\n",
       "      <td>6908.0</td>\n",
       "      <td>3.7</td>\n",
       "      <td>https://www.jumia.com.ng/customer/account/logi...</td>\n",
       "      <td>0.00</td>\n",
       "    </tr>\n",
       "    <tr>\n",
       "      <th>1</th>\n",
       "      <td>phones-tablets</td>\n",
       "      <td>EASYPIE EasyPie 20000mAh Dual Fast Charge 64W ...</td>\n",
       "      <td>EASYPIE</td>\n",
       "      <td>6960.0</td>\n",
       "      <td>8618.0</td>\n",
       "      <td>3.6</td>\n",
       "      <td>https://www.jumia.com.ng/customer/account/logi...</td>\n",
       "      <td>19.24</td>\n",
       "    </tr>\n",
       "    <tr>\n",
       "      <th>2</th>\n",
       "      <td>phones-tablets</td>\n",
       "      <td>Philly 20000mAh Power Charging Bank Portable C...</td>\n",
       "      <td>Philly</td>\n",
       "      <td>6946.0</td>\n",
       "      <td>12971.0</td>\n",
       "      <td>3.6</td>\n",
       "      <td>https://www.jumia.com.ng/customer/account/logi...</td>\n",
       "      <td>46.45</td>\n",
       "    </tr>\n",
       "    <tr>\n",
       "      <th>3</th>\n",
       "      <td>phones-tablets</td>\n",
       "      <td>VIC ♛20000mAh Power Banks 74Wh Portable Charge...</td>\n",
       "      <td>VIC</td>\n",
       "      <td>4910.0</td>\n",
       "      <td>18830.0</td>\n",
       "      <td>3.4</td>\n",
       "      <td>https://www.jumia.com.ng/customer/account/logi...</td>\n",
       "      <td>73.92</td>\n",
       "    </tr>\n",
       "    <tr>\n",
       "      <th>4</th>\n",
       "      <td>phones-tablets</td>\n",
       "      <td>Oraimo Traveler 12 20000mAh 12W Power Bank</td>\n",
       "      <td>Oraimo</td>\n",
       "      <td>13635.0</td>\n",
       "      <td>22469.0</td>\n",
       "      <td>4.0</td>\n",
       "      <td>https://www.jumia.com.ng/customer/account/logi...</td>\n",
       "      <td>39.32</td>\n",
       "    </tr>\n",
       "  </tbody>\n",
       "</table>\n",
       "</div>"
      ],
      "text/plain": [
       "         Category                                               Name    Brand  \\\n",
       "0  phones-tablets  Ace Elec 20000 MAh Utra Slim Portable Power Ba...      Ace   \n",
       "1  phones-tablets  EASYPIE EasyPie 20000mAh Dual Fast Charge 64W ...  EASYPIE   \n",
       "2  phones-tablets  Philly 20000mAh Power Charging Bank Portable C...   Philly   \n",
       "3  phones-tablets  VIC ♛20000mAh Power Banks 74Wh Portable Charge...      VIC   \n",
       "4  phones-tablets         Oraimo Traveler 12 20000mAh 12W Power Bank   Oraimo   \n",
       "\n",
       "     Price  Old_Price  Rating  \\\n",
       "0   6908.0     6908.0     3.7   \n",
       "1   6960.0     8618.0     3.6   \n",
       "2   6946.0    12971.0     3.6   \n",
       "3   4910.0    18830.0     3.4   \n",
       "4  13635.0    22469.0     4.0   \n",
       "\n",
       "                                                Link  Discount  \n",
       "0  https://www.jumia.com.ng/customer/account/logi...      0.00  \n",
       "1  https://www.jumia.com.ng/customer/account/logi...     19.24  \n",
       "2  https://www.jumia.com.ng/customer/account/logi...     46.45  \n",
       "3  https://www.jumia.com.ng/customer/account/logi...     73.92  \n",
       "4  https://www.jumia.com.ng/customer/account/logi...     39.32  "
      ]
     },
     "execution_count": 22,
     "metadata": {},
     "output_type": "execute_result"
    }
   ],
   "source": [
    "df.head()"
   ]
  },
  {
   "cell_type": "code",
   "execution_count": 24,
   "id": "2742d1be",
   "metadata": {},
   "outputs": [
    {
     "data": {
      "text/plain": [
       "Category      0\n",
       "Name          0\n",
       "Brand         0\n",
       "Price         0\n",
       "Old_Price     0\n",
       "Rating       51\n",
       "Link          0\n",
       "Discount      0\n",
       "dtype: int64"
      ]
     },
     "execution_count": 24,
     "metadata": {},
     "output_type": "execute_result"
    }
   ],
   "source": [
    "df.isnull().sum()"
   ]
  },
  {
   "cell_type": "code",
   "execution_count": 26,
   "id": "be6e2a12",
   "metadata": {},
   "outputs": [],
   "source": [
    "df['Rating'] = pd.to_numeric(df['Rating'], errors='coerce')"
   ]
  },
  {
   "cell_type": "code",
   "execution_count": 28,
   "id": "2a7cf98c",
   "metadata": {},
   "outputs": [
    {
     "data": {
      "text/plain": [
       "count    748.000000\n",
       "mean       4.048529\n",
       "std        0.536647\n",
       "min        1.000000\n",
       "25%        3.800000\n",
       "50%        4.100000\n",
       "75%        4.400000\n",
       "max        5.000000\n",
       "Name: Rating, dtype: float64"
      ]
     },
     "execution_count": 28,
     "metadata": {},
     "output_type": "execute_result"
    }
   ],
   "source": [
    "df['Rating'].describe()"
   ]
  },
  {
   "cell_type": "code",
   "execution_count": 29,
   "id": "9850b719",
   "metadata": {},
   "outputs": [
    {
     "data": {
      "text/plain": [
       "count    7.990000e+02\n",
       "mean     2.780855e+04\n",
       "std      8.914565e+04\n",
       "min      3.540000e+02\n",
       "25%      5.100000e+03\n",
       "50%      8.027000e+03\n",
       "75%      1.850000e+04\n",
       "max      2.000000e+06\n",
       "Name: Price, dtype: float64"
      ]
     },
     "execution_count": 29,
     "metadata": {},
     "output_type": "execute_result"
    }
   ],
   "source": [
    "df['Price'].describe()"
   ]
  },
  {
   "cell_type": "code",
   "execution_count": 31,
   "id": "587bfb51",
   "metadata": {},
   "outputs": [],
   "source": [
    "# saving a backup of links\n",
    "links = df['Link'].copy()\n",
    "\n",
    "df = df.drop(columns=['Link'])"
   ]
  },
  {
   "cell_type": "code",
   "execution_count": 32,
   "id": "3a26029b",
   "metadata": {},
   "outputs": [
    {
     "data": {
      "text/html": [
       "<div>\n",
       "<style scoped>\n",
       "    .dataframe tbody tr th:only-of-type {\n",
       "        vertical-align: middle;\n",
       "    }\n",
       "\n",
       "    .dataframe tbody tr th {\n",
       "        vertical-align: top;\n",
       "    }\n",
       "\n",
       "    .dataframe thead th {\n",
       "        text-align: right;\n",
       "    }\n",
       "</style>\n",
       "<table border=\"1\" class=\"dataframe\">\n",
       "  <thead>\n",
       "    <tr style=\"text-align: right;\">\n",
       "      <th></th>\n",
       "      <th>Category</th>\n",
       "      <th>Name</th>\n",
       "      <th>Brand</th>\n",
       "      <th>Price</th>\n",
       "      <th>Old_Price</th>\n",
       "      <th>Rating</th>\n",
       "      <th>Discount</th>\n",
       "    </tr>\n",
       "  </thead>\n",
       "  <tbody>\n",
       "    <tr>\n",
       "      <th>0</th>\n",
       "      <td>phones-tablets</td>\n",
       "      <td>Ace Elec 20000 MAh Utra Slim Portable Power Ba...</td>\n",
       "      <td>Ace</td>\n",
       "      <td>6908.0</td>\n",
       "      <td>6908.0</td>\n",
       "      <td>3.7</td>\n",
       "      <td>0.00</td>\n",
       "    </tr>\n",
       "    <tr>\n",
       "      <th>1</th>\n",
       "      <td>phones-tablets</td>\n",
       "      <td>EASYPIE EasyPie 20000mAh Dual Fast Charge 64W ...</td>\n",
       "      <td>EASYPIE</td>\n",
       "      <td>6960.0</td>\n",
       "      <td>8618.0</td>\n",
       "      <td>3.6</td>\n",
       "      <td>19.24</td>\n",
       "    </tr>\n",
       "    <tr>\n",
       "      <th>2</th>\n",
       "      <td>phones-tablets</td>\n",
       "      <td>Philly 20000mAh Power Charging Bank Portable C...</td>\n",
       "      <td>Philly</td>\n",
       "      <td>6946.0</td>\n",
       "      <td>12971.0</td>\n",
       "      <td>3.6</td>\n",
       "      <td>46.45</td>\n",
       "    </tr>\n",
       "    <tr>\n",
       "      <th>3</th>\n",
       "      <td>phones-tablets</td>\n",
       "      <td>VIC ♛20000mAh Power Banks 74Wh Portable Charge...</td>\n",
       "      <td>VIC</td>\n",
       "      <td>4910.0</td>\n",
       "      <td>18830.0</td>\n",
       "      <td>3.4</td>\n",
       "      <td>73.92</td>\n",
       "    </tr>\n",
       "    <tr>\n",
       "      <th>4</th>\n",
       "      <td>phones-tablets</td>\n",
       "      <td>Oraimo Traveler 12 20000mAh 12W Power Bank</td>\n",
       "      <td>Oraimo</td>\n",
       "      <td>13635.0</td>\n",
       "      <td>22469.0</td>\n",
       "      <td>4.0</td>\n",
       "      <td>39.32</td>\n",
       "    </tr>\n",
       "  </tbody>\n",
       "</table>\n",
       "</div>"
      ],
      "text/plain": [
       "         Category                                               Name    Brand  \\\n",
       "0  phones-tablets  Ace Elec 20000 MAh Utra Slim Portable Power Ba...      Ace   \n",
       "1  phones-tablets  EASYPIE EasyPie 20000mAh Dual Fast Charge 64W ...  EASYPIE   \n",
       "2  phones-tablets  Philly 20000mAh Power Charging Bank Portable C...   Philly   \n",
       "3  phones-tablets  VIC ♛20000mAh Power Banks 74Wh Portable Charge...      VIC   \n",
       "4  phones-tablets         Oraimo Traveler 12 20000mAh 12W Power Bank   Oraimo   \n",
       "\n",
       "     Price  Old_Price  Rating  Discount  \n",
       "0   6908.0     6908.0     3.7      0.00  \n",
       "1   6960.0     8618.0     3.6     19.24  \n",
       "2   6946.0    12971.0     3.6     46.45  \n",
       "3   4910.0    18830.0     3.4     73.92  \n",
       "4  13635.0    22469.0     4.0     39.32  "
      ]
     },
     "execution_count": 32,
     "metadata": {},
     "output_type": "execute_result"
    }
   ],
   "source": [
    "df.head()"
   ]
  },
  {
   "cell_type": "markdown",
   "id": "a76ebf7d",
   "metadata": {},
   "source": [
    "## Price Distribution"
   ]
  },
  {
   "cell_type": "code",
   "execution_count": 44,
   "id": "b92cb4a7",
   "metadata": {},
   "outputs": [
    {
     "data": {
      "image/png": "[encoded data removed]",
      "text/plain": [
       "<Figure size 800x500 with 1 Axes>"
      ]
     },
     "metadata": {},
     "output_type": "display_data"
    },
    {
     "name": "stdout",
     "output_type": "stream",
     "text": [
      "Average Discount 30.86 %\n"
     ]
    }
   ],
   "source": [
    "# price distribution\n",
    "plt.figure(figsize=(8,5))\n",
    "sns.histplot(df['Price'], bins=50, kde=True)\n",
    "plt.title('Price Distribution')\n",
    "plt.xlabel('Price(₦)')\n",
    "plt.ylabel('Count')\n",
    "plt.show()\n",
    "\n",
    "print('Average Discount', round(df['Discount'].mean (), 2), '%')"
   ]
  },
  {
   "cell_type": "code",
   "execution_count": 39,
   "id": "447d838c",
   "metadata": {},
   "outputs": [
    {
     "data": {
      "image/png": "[encoded data removed]",
      "text/plain": [
       "<Figure size 800x500 with 1 Axes>"
      ]
     },
     "metadata": {},
     "output_type": "display_data"
    }
   ],
   "source": [
    "plt.figure(figsize=(8,5))\n",
    "sns.histplot(df['Price'].apply(lambda x: np.log1p(x)), bins=50, kde=True)\n",
    "plt.title('Log Price Distribution')\n",
    "plt.xlabel('Log Price(₦)')\n",
    "plt.ylabel('Count')\n",
    "plt.show()"
   ]
  },
  {
   "cell_type": "markdown",
   "id": "a3e64194",
   "metadata": {},
   "source": [
    "## Discount Distribution"
   ]
  },
  {
   "cell_type": "code",
   "execution_count": 59,
   "id": "2f09043e",
   "metadata": {},
   "outputs": [
    {
     "data": {
      "image/png": "[encoded data removed]",
      "text/plain": [
       "<Figure size 800x500 with 1 Axes>"
      ]
     },
     "metadata": {},
     "output_type": "display_data"
    }
   ],
   "source": [
    "# discount distribution\n",
    "plt.figure(figsize=(8,5))\n",
    "sns.histplot(df['Discount'], bins=40, kde=True)\n",
    "plt.title('Discount Percentage Distribution')\n",
    "plt.xlabel('Discount(%)')\n",
    "plt.ylabel('Count')\n",
    "plt.show()"
   ]
  },
  {
   "cell_type": "markdown",
   "id": "88dbe486",
   "metadata": {},
   "source": [
    "## Rating Distribution"
   ]
  },
  {
   "cell_type": "code",
   "execution_count": 45,
   "id": "3afc6edb",
   "metadata": {},
   "outputs": [
    {
     "data": {
      "image/png": "[encoded data removed]",
      "text/plain": [
       "<Figure size 800x500 with 1 Axes>"
      ]
     },
     "metadata": {},
     "output_type": "display_data"
    },
    {
     "data": {
      "image/png": "[encoded data removed]",
      "text/plain": [
       "<Figure size 600x400 with 1 Axes>"
      ]
     },
     "metadata": {},
     "output_type": "display_data"
    }
   ],
   "source": [
    "# rating distribution\n",
    "plt.figure(figsize=(8,5))\n",
    "sns.histplot(df['Rating'], bins=10, kde=False)\n",
    "plt.title('Ratings Distribution')\n",
    "plt.xlabel('Rating (out of 5)')\n",
    "plt.ylabel('Count')\n",
    "plt.show()\n",
    "\n",
    "# check correlation between rating discount\n",
    "plt.figure(figsize=(6,4))\n",
    "sns.scatterplot(x='Discount', y='Rating', data=df)\n",
    "plt.title('Discount vs Rating')\n",
    "plt.show()"
   ]
  },
  {
   "cell_type": "markdown",
   "id": "5195c4db",
   "metadata": {},
   "source": [
    "## Correlation Analysis"
   ]
  },
  {
   "cell_type": "code",
   "execution_count": 47,
   "id": "3ee21940",
   "metadata": {},
   "outputs": [
    {
     "data": {
      "image/png": "[encoded data removed]",
      "text/plain": [
       "<Figure size 600x400 with 2 Axes>"
      ]
     },
     "metadata": {},
     "output_type": "display_data"
    }
   ],
   "source": [
    "numeric_cols = ['Price', 'Old_Price', 'Discount', 'Rating']\n",
    "corr = df[numeric_cols].corr()\n",
    "plt.figure(figsize=(6,4))\n",
    "sns.heatmap(corr, annot=True, cmap='coolwarm', fmt='.2f')\n",
    "plt.title('Correlation Heatmap')\n",
    "plt.show()"
   ]
  },
  {
   "cell_type": "markdown",
   "id": "408a9489",
   "metadata": {},
   "source": [
    "## Top Discounts and Drice Insights"
   ]
  },
  {
   "cell_type": "code",
   "execution_count": 54,
   "id": "52f4e4de",
   "metadata": {},
   "outputs": [
    {
     "name": "stdout",
     "output_type": "stream",
     "text": [
      "TOP DISCOUNTED PRODUCTS: \n",
      "                                                  Name       Brand    Price  \\\n",
      "266  Kitchen Knife Sharpener, Repair Restore And Po...     Kitchen   1999.0   \n",
      "397  Kiki NewGain Rechargeable Hair Cordless Clippe...        Kiki  15500.0   \n",
      "332  2Black Darkening & Anti-dandruff Unisex Hair C...      2Black   1249.0   \n",
      "662         Vehicle Engine Catalytic Converter Cleaner     Vehicle   4999.0   \n",
      "388  Cerave Acne Control Cleanser With 2% Salicylic...      Cerave   3995.0   \n",
      "340  Green Mask Stick Facial Mask For Black Spots &...       Green   2669.0   \n",
      "527  Postpartum Breast Pump Manual High Suction Mil...  Postpartum   6636.0   \n",
      "140  TWS Wireless Bluetooth Earpods - Bluetooth 5.3...         TWS   4800.0   \n",
      "181  EAGEAT Wireless 2.4GHz Mice Rechargeable Mute-...      EAGEAT   3631.0   \n",
      "169      EAGEAT Wireless 2.4GHz Mice Rechargeable Mute      EAGEAT   3631.0   \n",
      "\n",
      "     Old_Price  Discount  Rating  \n",
      "266    20000.0     90.00     3.7  \n",
      "397   129000.0     87.98     4.0  \n",
      "332    10000.0     87.51     3.7  \n",
      "662    40000.0     87.50     3.3  \n",
      "388    30000.0     86.68     3.8  \n",
      "340    19643.0     86.41     3.3  \n",
      "527    47400.0     86.00     4.5  \n",
      "140    34000.0     85.88     2.5  \n",
      "181    24680.0     85.29     4.4  \n",
      "169    24680.0     85.29     4.5  \n",
      "\n",
      "TOP EXPENSIVE PRODUCTS:\n",
      "                                                  Name      Price  Old_Price  \\\n",
      "563                              Gaming MDI STEALTH 14  2000000.0  2000000.0   \n",
      "203  Starlink Standard Kit - Gen 3 (02534003-501/B)...   590000.0   590000.0   \n",
      "123  Hisense 55\" Inches UHD 4K SMART TV (55A6N) - B...   535000.0   620600.0   \n",
      "85   TCL 55 Inches UHD 4k Google Smart TV (55V6B) +...   441000.0   500000.0   \n",
      "125  UFC 55 Inch 4K Ultra-HD Smart Freamless Androi...   389990.0   389990.0   \n",
      "107  Mi+ 55” UHD 4K Smart LED TV – Vidaa OS, Blueto...   365275.0   365275.0   \n",
      "168  Starlink Mini Kit - High Speed Internet Networ...   318000.0   500000.0   \n",
      "775                         Solar Pump Machine (0.5hp)   306002.0  1290000.0   \n",
      "149  Hikers 50'' Inch Frameless Android Smart 4K LE...   295700.0   314246.0   \n",
      "282  Nexus 1.5HP Split Air Conditioner (NX-MSSH1200...   294000.0   384800.0   \n",
      "\n",
      "     Discount  Rating  \n",
      "563      0.00     NaN  \n",
      "203      0.00     4.6  \n",
      "123     13.79     4.6  \n",
      "85      11.80     4.4  \n",
      "125      0.00     4.2  \n",
      "107      0.00     NaN  \n",
      "168     36.40     4.8  \n",
      "775     76.28     1.0  \n",
      "149      5.90     4.1  \n",
      "282     23.60     4.3  \n"
     ]
    }
   ],
   "source": [
    "# top 10 discounted products\n",
    "print('TOP DISCOUNTED PRODUCTS: ')\n",
    "top_discounted = df.sort_values(by='Discount', ascending=False).head(10)\n",
    "print(top_discounted[['Name', 'Brand', 'Price', 'Old_Price', 'Discount', 'Rating']])\n",
    "\n",
    "# top 10 expensive products\n",
    "print('\\nTOP EXPENSIVE PRODUCTS:')\n",
    "top_expensive = df.sort_values(by='Price', ascending=False).head(10)\n",
    "print(top_expensive[['Name', 'Price', 'Old_Price', 'Discount', 'Rating']])"
   ]
  },
  {
   "cell_type": "markdown",
   "id": "c8c5caa3",
   "metadata": {},
   "source": [
    "## Relationship between Old and New Price"
   ]
  },
  {
   "cell_type": "code",
   "execution_count": 56,
   "id": "8e6301a6",
   "metadata": {},
   "outputs": [
    {
     "data": {
      "image/png": "[encoded data removed]",
      "text/plain": [
       "<Figure size 600x400 with 1 Axes>"
      ]
     },
     "metadata": {},
     "output_type": "display_data"
    }
   ],
   "source": [
    "plt.figure(figsize=(6,4))\n",
    "sns.scatterplot(x='Old_Price', y='Price', data=df)\n",
    "plt.title('Old Price vs New Price')\n",
    "plt.xlabel('Old Price(₦)')\n",
    "plt.ylabel('New Price(₦)')\n",
    "plt.show()"
   ]
  },
  {
   "cell_type": "markdown",
   "id": "2fb987d6",
   "metadata": {},
   "source": [
    "## Category based analysis"
   ]
  },
  {
   "cell_type": "code",
   "execution_count": 57,
   "id": "3c847f76",
   "metadata": {},
   "outputs": [
    {
     "data": {
      "image/png": "[encoded data removed]",
      "text/plain": [
       "<Figure size 1000x500 with 1 Axes>"
      ]
     },
     "metadata": {},
     "output_type": "display_data"
    }
   ],
   "source": [
    "plt.figure(figsize=(10,5))\n",
    "df.groupby('Category')['Discount'].mean().sort_values(ascending=False).head(10).plot(kind='bar')\n",
    "plt.title('Top 10 Categories by Average Discount')\n",
    "plt.ylabel('Average Dsicount(%)')\n",
    "plt.show()"
   ]
  },
  {
   "cell_type": "markdown",
   "id": "0b97eda5",
   "metadata": {},
   "source": [
    "## Price vs Rating"
   ]
  },
  {
   "cell_type": "code",
   "execution_count": 60,
   "id": "7a4dd80c",
   "metadata": {},
   "outputs": [
    {
     "data": {
      "image/png": "[encoded data removed]",
      "text/plain": [
       "<Figure size 700x500 with 1 Axes>"
      ]
     },
     "metadata": {},
     "output_type": "display_data"
    }
   ],
   "source": [
    "plt.figure(figsize=(7,5))\n",
    "sns.scatterplot(x='Price', y='Rating', data=df)\n",
    "plt.title('Price vs Rating')\n",
    "plt.xlabel('Price(₦)')\n",
    "plt.ylabel('Rating')\n",
    "plt.show()"
   ]
  },
  {
   "cell_type": "markdown",
   "id": "17c631e7",
   "metadata": {},
   "source": [
    "## Price Insights"
   ]
  },
  {
   "cell_type": "markdown",
   "id": "092cdab5",
   "metadata": {},
   "source": [
    "price-sensitive customers are more active in low to mid-price categories.\n",
    "\n",
    "Jumia can use price segmentation (budget, mid-range, premium) for better targeting."
   ]
  },
  {
   "cell_type": "markdown",
   "id": "d6802b10",
   "metadata": {},
   "source": [
    "## Discount Insights"
   ]
  },
  {
   "cell_type": "markdown",
   "id": "b0d3d93a",
   "metadata": {},
   "source": [
    "Jumia relies on discounts to drive sales, but the majority of products have moderate discounts, suggesting normal price competition.\n",
    "\n",
    "Categories like fashion and electronics usually show higher average discounts — ideal for marketing “Hot Deals” or “Flash Sales” promotions."
   ]
  },
  {
   "cell_type": "markdown",
   "id": "e307d66a",
   "metadata": {},
   "source": [
    "## Rating Insights"
   ]
  },
  {
   "cell_type": "markdown",
   "id": "ee886579",
   "metadata": {},
   "source": [
    "High-rated products can be featured as “Trusted Picks.”\n",
    "\n",
    "Categories with few reviews might benefit from more customer review incentives to boost trust."
   ]
  },
  {
   "cell_type": "markdown",
   "id": "a07ae10c",
   "metadata": {},
   "source": [
    "## Discount vs Rating"
   ]
  },
  {
   "cell_type": "markdown",
   "id": "fc04bb79",
   "metadata": {},
   "source": [
    "Discounting doesn’t automatically improve satisfaction — Jumia should ensure product quality, not just price cuts."
   ]
  },
  {
   "cell_type": "markdown",
   "id": "ca674dcd",
   "metadata": {},
   "source": [
    "## Top Products and Discounts"
   ]
  },
  {
   "cell_type": "markdown",
   "id": "ab2443a1",
   "metadata": {},
   "source": [
    "Promote top-discounted items for traffic, but upsell high-value electronics to maximize profit margin.\n",
    "\n",
    "Dynamic pricing models can be applied by category to improve balance."
   ]
  },
  {
   "cell_type": "markdown",
   "id": "0a7e8111",
   "metadata": {},
   "source": [
    "## Category-Level Insights"
   ]
  },
  {
   "cell_type": "markdown",
   "id": "bb5261a8",
   "metadata": {},
   "source": [
    "Jumia can design targeted promotions per category:\n",
    "\n",
    "“Mega Fashion Sale” for high-discount categories.\n",
    "\n",
    "“Premium Tech Deals” for high-priced items.\n",
    "\n",
    "“Everyday Essentials” for groceries with steady pricing."
   ]
  },
  {
   "cell_type": "markdown",
   "id": "8d4bfae6",
   "metadata": {},
   "source": [
    "## Final Business Recommendations"
   ]
  },
  {
   "cell_type": "markdown",
   "id": "85812986",
   "metadata": {},
   "source": [
    "Focus Discounts Strategically — High discounts in fashion attract attention but may cut margins; apply moderate deals in tech.\n",
    "\n",
    "Use Ratings for Trust Marketing — Promote high-rated items with tags like “Customer Favorite.”\n",
    "\n",
    "Dynamic Pricing Engine — Adjust price and discount based on category demand and competition.\n",
    "\n",
    "Encourage Reviews — Incentivize customers to rate products, especially in under-reviewed categories.\n",
    "\n",
    "Data-Driven Promotions — Run category-specific campaigns based on price and discount analytics."
   ]
  },
  {
   "cell_type": "code",
   "execution_count": 61,
   "id": "dce08769",
   "metadata": {},
   "outputs": [
    {
     "data": {
      "text/html": [
       "<div>\n",
       "<style scoped>\n",
       "    .dataframe tbody tr th:only-of-type {\n",
       "        vertical-align: middle;\n",
       "    }\n",
       "\n",
       "    .dataframe tbody tr th {\n",
       "        vertical-align: top;\n",
       "    }\n",
       "\n",
       "    .dataframe thead th {\n",
       "        text-align: right;\n",
       "    }\n",
       "</style>\n",
       "<table border=\"1\" class=\"dataframe\">\n",
       "  <thead>\n",
       "    <tr style=\"text-align: right;\">\n",
       "      <th></th>\n",
       "      <th>Category</th>\n",
       "      <th>Name</th>\n",
       "      <th>Brand</th>\n",
       "      <th>Price</th>\n",
       "      <th>Old_Price</th>\n",
       "      <th>Rating</th>\n",
       "      <th>Discount</th>\n",
       "    </tr>\n",
       "  </thead>\n",
       "  <tbody>\n",
       "    <tr>\n",
       "      <th>0</th>\n",
       "      <td>phones-tablets</td>\n",
       "      <td>Ace Elec 20000 MAh Utra Slim Portable Power Ba...</td>\n",
       "      <td>Ace</td>\n",
       "      <td>6908.0</td>\n",
       "      <td>6908.0</td>\n",
       "      <td>3.7</td>\n",
       "      <td>0.00</td>\n",
       "    </tr>\n",
       "    <tr>\n",
       "      <th>1</th>\n",
       "      <td>phones-tablets</td>\n",
       "      <td>EASYPIE EasyPie 20000mAh Dual Fast Charge 64W ...</td>\n",
       "      <td>EASYPIE</td>\n",
       "      <td>6960.0</td>\n",
       "      <td>8618.0</td>\n",
       "      <td>3.6</td>\n",
       "      <td>19.24</td>\n",
       "    </tr>\n",
       "    <tr>\n",
       "      <th>2</th>\n",
       "      <td>phones-tablets</td>\n",
       "      <td>Philly 20000mAh Power Charging Bank Portable C...</td>\n",
       "      <td>Philly</td>\n",
       "      <td>6946.0</td>\n",
       "      <td>12971.0</td>\n",
       "      <td>3.6</td>\n",
       "      <td>46.45</td>\n",
       "    </tr>\n",
       "    <tr>\n",
       "      <th>3</th>\n",
       "      <td>phones-tablets</td>\n",
       "      <td>VIC ♛20000mAh Power Banks 74Wh Portable Charge...</td>\n",
       "      <td>VIC</td>\n",
       "      <td>4910.0</td>\n",
       "      <td>18830.0</td>\n",
       "      <td>3.4</td>\n",
       "      <td>73.92</td>\n",
       "    </tr>\n",
       "    <tr>\n",
       "      <th>4</th>\n",
       "      <td>phones-tablets</td>\n",
       "      <td>Oraimo Traveler 12 20000mAh 12W Power Bank</td>\n",
       "      <td>Oraimo</td>\n",
       "      <td>13635.0</td>\n",
       "      <td>22469.0</td>\n",
       "      <td>4.0</td>\n",
       "      <td>39.32</td>\n",
       "    </tr>\n",
       "  </tbody>\n",
       "</table>\n",
       "</div>"
      ],
      "text/plain": [
       "         Category                                               Name    Brand  \\\n",
       "0  phones-tablets  Ace Elec 20000 MAh Utra Slim Portable Power Ba...      Ace   \n",
       "1  phones-tablets  EASYPIE EasyPie 20000mAh Dual Fast Charge 64W ...  EASYPIE   \n",
       "2  phones-tablets  Philly 20000mAh Power Charging Bank Portable C...   Philly   \n",
       "3  phones-tablets  VIC ♛20000mAh Power Banks 74Wh Portable Charge...      VIC   \n",
       "4  phones-tablets         Oraimo Traveler 12 20000mAh 12W Power Bank   Oraimo   \n",
       "\n",
       "     Price  Old_Price  Rating  Discount  \n",
       "0   6908.0     6908.0     3.7      0.00  \n",
       "1   6960.0     8618.0     3.6     19.24  \n",
       "2   6946.0    12971.0     3.6     46.45  \n",
       "3   4910.0    18830.0     3.4     73.92  \n",
       "4  13635.0    22469.0     4.0     39.32  "
      ]
     },
     "execution_count": 61,
     "metadata": {},
     "output_type": "execute_result"
    }
   ],
   "source": [
    "df.head()"
   ]
  },
  {
   "cell_type": "code",
   "execution_count": 63,
   "id": "635228ef",
   "metadata": {},
   "outputs": [],
   "source": [
    "df.to_csv('jumia_cleaned.csv', index=False)"
   ]
  },
  {
   "cell_type": "code",
   "execution_count": null,
   "id": "7fa571c0",
   "metadata": {},
   "outputs": [],
   "source": []
  }
 ],
 "metadata": {
  "kernelspec": {
   "display_name": "Python 3 (ipykernel)",
   "language": "python",
   "name": "python3"
  },
  "language_info": {
   "codemirror_mode": {
    "name": "ipython",
    "version": 3
   },
   "file_extension": ".py",
   "mimetype": "text/x-python",
   "name": "python",
   "nbconvert_exporter": "python",
   "pygments_lexer": "ipython3",
   "version": "3.11.5"
  }
 },
 "nbformat": 4,
 "nbformat_minor": 5
}
